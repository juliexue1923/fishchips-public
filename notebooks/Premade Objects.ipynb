{
 "cells": [
  {
   "cell_type": "code",
   "execution_count": 2,
   "metadata": {},
   "outputs": [],
   "source": [
    "%matplotlib inline \n",
    "%load_ext autoreload\n",
    "%autoreload 2\n",
    "%config InlineBackend.figure_format = 'retina' # I use a HiDPI screen"
   ]
  },
  {
   "cell_type": "code",
   "execution_count": 3,
   "metadata": {},
   "outputs": [],
   "source": [
    "from fishchips.experiments import CMB_Primary\n",
    "from fishchips.cosmo import Observables\n",
    "import fishchips.cmb_lensing\n",
    "import fishchips.util\n",
    "\n",
    "from classy import Class  # CLASS python wrapper\n",
    "import numpy as np\n",
    "import matplotlib.pyplot as plt\n",
    "default_color_list = ['#1A1A1A', '#0072B2', '#009E73', '#D55E00', '#CC79A7', '#F0E442', '#56B4E9']"
   ]
  },
  {
   "cell_type": "markdown",
   "metadata": {},
   "source": [
    "I've pickled a few fishchips experiment objects (Planck, S3, S4) so you don't have to install orphics. We load it in, and get a dictionary with the three experiments."
   ]
  },
  {
   "cell_type": "code",
   "execution_count": 4,
   "metadata": {},
   "outputs": [
    {
     "data": {
      "text/plain": [
       "{'Planck': [<fishchips.experiments.CMB_Primary at 0x7fa89109e358>,\n",
       "  <fishchips.experiments.CMB_Primary at 0x7fa891211a58>,\n",
       "  <fishchips.experiments.CMB_Primary at 0x7fa891122588>],\n",
       " 'S3': [<fishchips.experiments.CMB_Primary at 0x7fa8911228d0>,\n",
       "  <fishchips.experiments.Prior at 0x7fa891122c50>,\n",
       "  <fishchips.experiments.CMB_Primary at 0x7fa891122c88>,\n",
       "  <fishchips.experiments.CMB_Primary at 0x7fa891122fd0>,\n",
       "  <fishchips.experiments.CMB_Primary at 0x7fa8911c3358>,\n",
       "  <fishchips.cmb_lensing.CMB_Lensing_Only at 0x7fa8911c36a0>],\n",
       " 'S4': [<fishchips.experiments.CMB_Primary at 0x7fa8911c3b70>,\n",
       "  <fishchips.experiments.CMB_Primary at 0x7fa8911c3eb8>,\n",
       "  <fishchips.experiments.CMB_Primary at 0x7fa8911c5240>,\n",
       "  <fishchips.experiments.Prior at 0x7fa8911c5588>,\n",
       "  <fishchips.experiments.CMB_Primary at 0x7fa8911c55c0>,\n",
       "  <fishchips.experiments.CMB_Primary at 0x7fa8911c5908>,\n",
       "  <fishchips.experiments.CMB_Primary at 0x7fa8911c5c50>,\n",
       "  <fishchips.cmb_lensing.CMB_Lensing_Only at 0x7fa8911c5f98>]}"
      ]
     },
     "execution_count": 4,
     "metadata": {},
     "output_type": "execute_result"
    }
   ],
   "source": [
    "import pickle\n",
    "premades = pickle.load( (open(\"../data/premades.p\", \"rb\")) )\n",
    "\n",
    "premades"
   ]
  },
  {
   "cell_type": "markdown",
   "metadata": {},
   "source": [
    "Next let's generate an observables object."
   ]
  },
  {
   "cell_type": "code",
   "execution_count": 5,
   "metadata": {},
   "outputs": [],
   "source": [
    "# create an Observables object to store information for derivatives\n",
    "pars = np.array( ['omega_b', 'omega_cdm', 'h',  'A_s', 'n_s', 'tau_reio'])\n",
    "centers = np.array([0.02222,  0.1197,  0.69,  2.1955e-9, 0.9655, 0.06])\n",
    "steps = np.array([0.0001,     0.001,    0.01,   0.01e-9, 0.005, 0.02])\n",
    "\n",
    "obs = Observables(parameters=pars,\n",
    "                  fiducial=centers,\n",
    "                  left=centers-steps,\n",
    "                  right=centers+steps)\n",
    "\n",
    "# generate a template CLASS python wrapper configuration\n",
    "classy_template = {'output': 'tCl pCl lCl',\n",
    "                   'l_max_scalars': 5000,\n",
    "                   'lensing': 'yes',\n",
    "                   'non linear': 'halofit'}\n",
    "# add in the fiducial values too\n",
    "classy_template.update(dict(zip(obs.parameters, obs.fiducial)))\n",
    "\n",
    "# generate the fiducial cosmology\n",
    "obs.compute_cosmo(key='fiducial', classy_dict=classy_template)\n",
    "\n",
    "# generate an observables dictionary, looping over parameters\n",
    "for par, par_left, par_right in zip(obs.parameters, obs.left, obs.right):\n",
    "    classy_left = classy_template.copy()\n",
    "    classy_left[par] = par_left\n",
    "    classy_right = classy_template.copy()\n",
    "    classy_right[par] = par_right\n",
    "    # pass the dictionaries full of configurations to get computed\n",
    "    obs.compute_cosmo(key=par + '_left', classy_dict=classy_left)\n",
    "    obs.compute_cosmo(key=par + '_right', classy_dict=classy_right)"
   ]
  },
  {
   "cell_type": "markdown",
   "metadata": {},
   "source": [
    "Let's compute a Fisher matrix using the premade S4!"
   ]
  },
  {
   "cell_type": "code",
   "execution_count": 6,
   "metadata": {},
   "outputs": [
    {
     "name": "stdout",
     "output_type": "stream",
     "text": [
      "\n"
     ]
    },
    {
     "data": {
      "text/plain": [
       "array([[ 8.73287111e-10,  1.33690123e-09,  2.37168419e-09,\n",
       "         1.52566484e-17, -3.41092592e-08, -5.60746230e-09],\n",
       "       [ 1.33690123e-09,  3.39114700e-07, -1.27600796e-06,\n",
       "        -1.17505806e-14, -8.89498986e-07, -3.20886263e-06],\n",
       "       [ 2.37168419e-09, -1.27600796e-06,  4.94000850e-06,\n",
       "         4.48439055e-14,  3.16857646e-06,  1.21591983e-05],\n",
       "       [ 1.52566484e-17, -1.17505806e-14,  4.48439055e-14,\n",
       "         4.37841407e-22,  2.69544471e-14,  1.17018743e-13],\n",
       "       [-3.41092592e-08, -8.89498986e-07,  3.16857646e-06,\n",
       "         2.69544471e-14,  4.61249025e-06,  8.34002986e-06],\n",
       "       [-5.60746230e-09, -3.20886263e-06,  1.21591983e-05,\n",
       "         1.17018743e-13,  8.34002986e-06,  3.18287417e-05]])"
      ]
     },
     "execution_count": 6,
     "metadata": {},
     "output_type": "execute_result"
    }
   ],
   "source": [
    "# sum together fisher matrices\n",
    "fisher = np.sum( [exp.get_fisher(obs, lensed_Cl=True)\n",
    "                  for exp in premades[\"S4\"]], axis=0 )\n",
    "cov = np.linalg.inv(fisher) # invert result to get covariance on parameters\n",
    "\n",
    "cov\n",
    "#fishchips.util.plot_triangle(obs, cov, \n",
    " #                            labels=[r\"$\\Omega_b h^2$\", r\"$\\Omega_c h^2$\", r\"$h$\",\n",
    "  #                                  r\"$A_s$\", r\"$n_s$\", r\"$\\tau_{reio}$\"]);"
   ]
  },
  {
   "cell_type": "markdown",
   "metadata": {},
   "source": [
    "The premades pickled dictionary was made with the following code:"
   ]
  },
  {
   "cell_type": "code",
   "execution_count": 9,
   "metadata": {},
   "outputs": [],
   "source": [
    "# import pickle\n",
    "\n",
    "# p = fishchips.experiments.get_PlanckPol_combine()\n",
    "# s3 = fishchips.experiments.get_S3() + [fishchips.experiments.get_S3_Lensing_Only()]\n",
    "# s4 = fishchips.experiments.get_S4() + [fishchips.experiments.get_S4_Lensing_Only()]\n",
    "# print(\"Planck\\n\", p)\n",
    "# print(\"S3\\n\", s3)\n",
    "# print(\"S4\\n\", s4)\n",
    "\n",
    "# import pickle\n",
    "# pickle.dump({\"Planck\": p, \"S3\":s3, \"S4\":s4},  open( \"../data/premades.p\", \"wb\") )"
   ]
  },
  {
   "cell_type": "code",
   "execution_count": null,
   "metadata": {},
   "outputs": [],
   "source": []
  }
 ],
 "metadata": {
  "kernelspec": {
   "display_name": "Python 3",
   "language": "python",
   "name": "python3"
  },
  "language_info": {
   "codemirror_mode": {
    "name": "ipython",
    "version": 3
   },
   "file_extension": ".py",
   "mimetype": "text/x-python",
   "name": "python",
   "nbconvert_exporter": "python",
   "pygments_lexer": "ipython3",
   "version": "3.6.13"
  }
 },
 "nbformat": 4,
 "nbformat_minor": 2
}
