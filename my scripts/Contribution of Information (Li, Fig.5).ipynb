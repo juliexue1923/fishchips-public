{
 "cells": [
  {
   "cell_type": "code",
   "execution_count": 1,
   "id": "5ca98de4",
   "metadata": {},
   "outputs": [],
   "source": [
    "%matplotlib inline \n",
    "%reload_ext autoreload\n",
    "%autoreload 2\n",
    "# %config InlineBackend.figure_format = 'retina' # I use a HiDPI screen\n",
    "from fishchips.experiments import CMB_Primary\n",
    "from fishchips.cosmo import Observables\n",
    "import fishchips.util\n",
    "\n",
    "from classy import Class  # CLASS python wrapper\n",
    "import numpy as np\n",
    "import matplotlib\n",
    "import matplotlib.pyplot as plt\n",
    "import pickle"
   ]
  },
  {
   "cell_type": "code",
   "execution_count": 2,
   "id": "e5ca1221",
   "metadata": {},
   "outputs": [],
   "source": [
    "par = np.array( ['sigma_dmeff'])\n",
    "center = np.array([1e-25])\n",
    "step = np.array([1e-25])\n",
    "\n",
    "obs_sigmap = Observables(parameters=par,\n",
    "                  fiducial=center,\n",
    "                  left=center-step,\n",
    "                  right=center+step)\n",
    "\n",
    "premades = pickle.load( (open(\"../data/premades.p\", \"rb\")) )\n",
    "\n",
    "# Different Experiments\n",
    "Planck_assumption = CMB_Primary(\n",
    "    theta_fwhm=[14,10,7.,5.,5.], sigma_T=[137,65.,43.,66.,200], sigma_P=[450,103.,81.,134.,406],\n",
    "    f_sky=0.6, l_min=2, l_max=2500)\n",
    "CMBS4_assumption = CMB_Primary(\n",
    "    theta_fwhm=[1.5], sigma_T=[1.0], sigma_P=[1.0],\n",
    "    f_sky=0.4, l_min=300, l_max=2500)\n",
    "SO_assumption = CMB_Primary(\n",
    "    theta_fwhm=[1.4], sigma_T=[6.3], sigma_P=[6.3],\n",
    "    f_sky=0.4, l_min=2, l_max=2500)"
   ]
  },
  {
   "cell_type": "code",
   "execution_count": 3,
   "id": "05faa19b",
   "metadata": {},
   "outputs": [],
   "source": [
    "from fishchips.experiments import CMB_Primary\n",
    "from fishchips.cosmo import Observables\n",
    "import fishchips.util\n",
    "\n",
    "from classy import Class  # CLASS python wrapper\n",
    "import numpy as np\n",
    "\n",
    "# create an Observables object to store information for derivatives\n",
    "obs = Observables(\n",
    "    parameters=['A_s', 'n_s', 'tau_reio'],\n",
    "    fiducial=[2.1e-9, 0.968, 0.066],\n",
    "    left=[2.0e-9, 0.948, 0.056],\n",
    "    right=[2.2e-9, 0.988, 0.076])\n",
    "\n",
    "# generate a template CLASS python wrapper configuration\n",
    "classy_template = {'output': 'tCl pCl lCl',\n",
    "                   'l_max_scalars': 2500,\n",
    "                   'lensing': 'yes'}\n",
    "# add in the fiducial values too\n",
    "classy_template.update(dict(zip(obs.parameters, obs.fiducial)))\n",
    "\n",
    "# generate the fiducial cosmology\n",
    "obs.compute_cosmo(key='fiducial', classy_dict=classy_template)\n",
    "\n",
    "# generate an observables dictionary, looping over parameters\n",
    "for par, par_left, par_right in zip(obs.parameters, obs.left, obs.right):\n",
    "    classy_left = classy_template.copy()\n",
    "    classy_left[par] = par_left\n",
    "    classy_right = classy_template.copy()\n",
    "    classy_right[par] = par_right\n",
    "    # pass the dictionaries full of configurations to get computed\n",
    "    obs.compute_cosmo(key=par + '_left', classy_dict=classy_left)\n",
    "    obs.compute_cosmo(key=par + '_right', classy_dict=classy_right)\n",
    "\n",
    "# compute the Fisher matrix with a Planck-like experiment\n",
    "example_Planck = fishchips.experiments.CMB_Primary(\n",
    "    theta_fwhm=[7.], sigma_T=[33.], sigma_P=[56.],\n",
    "    f_sky=0.65, l_min=2, l_max=2500)\n",
    "fisher = example_Planck.get_fisher(obs)"
   ]
  },
  {
   "cell_type": "code",
   "execution_count": null,
   "id": "4a0ac2b4",
   "metadata": {},
   "outputs": [],
   "source": []
  }
 ],
 "metadata": {
  "kernelspec": {
   "display_name": "Python 3",
   "language": "python",
   "name": "python3"
  },
  "language_info": {
   "codemirror_mode": {
    "name": "ipython",
    "version": 3
   },
   "file_extension": ".py",
   "mimetype": "text/x-python",
   "name": "python",
   "nbconvert_exporter": "python",
   "pygments_lexer": "ipython3",
   "version": "3.6.13"
  }
 },
 "nbformat": 4,
 "nbformat_minor": 5
}
