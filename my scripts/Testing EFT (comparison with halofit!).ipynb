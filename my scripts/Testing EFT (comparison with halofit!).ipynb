{
 "cells": [
  {
   "cell_type": "code",
   "execution_count": 1,
   "id": "54a7fb1b",
   "metadata": {},
   "outputs": [],
   "source": [
    "%matplotlib inline \n",
    "%reload_ext autoreload\n",
    "%autoreload 2\n",
    "# %config InlineBackend.figure_format = 'retina' # I use a HiDPI screen\n",
    "from fishchips.experiments import CMB_Primary\n",
    "from fishchips.cosmo import Observables\n",
    "import fishchips.cmb_lensing\n",
    "import fishchips.util\n",
    "\n",
    "from classy import Class  # CLASS python wrapper\n",
    "import numpy as np\n",
    "import numpy.core.multiarray\n",
    "import matplotlib.pyplot as plt"
   ]
  },
  {
   "cell_type": "code",
   "execution_count": 2,
   "id": "7e2221d9",
   "metadata": {},
   "outputs": [],
   "source": [
    "# create an Observables object to store information for derivatives\n",
    "pars = np.array( ['omega_b', 'omega_cdm', 'h',  'n_s', 'A_s', 'tau_reio'])\n",
    "centers = np.array([0.02222,  0.120,  0.69,  0.966, 2.2e-9, 0.06])\n",
    "steps = np.array([0.0002,     0.001,    0.007,   0.01, 2e-11, 0.006])\n",
    "\n",
    "dm_pars = np.array( ['m_ncdm', 'N_ur','sigma_dmeff'])\n",
    "dm_centers = np.array([0.06, 3.046, 0])\n",
    "dm_steps = np.array([0.02, 0.08, 1e-42])\n",
    "dm_labels = [r'$\\sum m_\\mathrm{\\nu}$', r'$N_{eff}$',r'$\\sigma_\\mathrm{p}$']\n",
    "\n",
    "linear_obs = Observables(parameters=dm_pars,\n",
    "                  fiducial=dm_centers,\n",
    "                  left=dm_centers-dm_steps,\n",
    "                  right=dm_centers+dm_steps)\n",
    "\n",
    "halofit_obs = Observables(parameters=dm_pars,\n",
    "                  fiducial=dm_centers,\n",
    "                  left=dm_centers-dm_steps,\n",
    "                  right=dm_centers+dm_steps)\n",
    "\n",
    "EFT_obs = Observables(parameters=dm_pars,\n",
    "                  fiducial=dm_centers,\n",
    "                  left=dm_centers-dm_steps,\n",
    "                  right=dm_centers+dm_steps)"
   ]
  },
  {
   "cell_type": "code",
   "execution_count": 12,
   "id": "e271463c",
   "metadata": {},
   "outputs": [],
   "source": [
    "linear_template = {'N_ncdm':1,\n",
    "                   'omega_cdm':0,\n",
    "                   'tau_reio':0.06,\n",
    "                   'h':0.69,\n",
    "                   'A_s':2.2e-09,\n",
    "                   'n_s':0.966,\n",
    "                   'omega_dmeff':0.120,\n",
    "                   'm_dmeff':1.0,\n",
    "                   'npow_dmeff':0,\n",
    "                   'Vrel_dmeff':0,\n",
    "                   'output': 'mPk tCl pCl lCl',\n",
    "                   'l_max_scalars': 5000,\n",
    "                   'lensing': 'yes' }\n",
    "\n",
    "EFT_template = {'N_ncdm':1,\n",
    "                   'omega_cdm':0,\n",
    "                   'tau_reio':0.06,\n",
    "                   'h':0.69,\n",
    "                   'A_s':2.2e-09,\n",
    "                   'n_s':0.966,\n",
    "                   'omega_dmeff':0.120,\n",
    "                   'm_dmeff':1.0,\n",
    "                   'npow_dmeff':0,\n",
    "                   'Vrel_dmeff':0,\n",
    "                   'output': 'mPk tCl pCl lCl',\n",
    "                   'l_max_scalars': 5000,\n",
    "                   'lensing': 'yes',\n",
    "                   'non linear':'PT',\n",
    "                   'IR resummation':'Yes',\n",
    "                   'Bias tracers':'Yes',\n",
    "                   'cb':'No',\n",
    "                   'RSD':'Yes',\n",
    "                   'AP':'Yes',\n",
    "                   'Omfid':'0.31'} \n",
    "\n",
    "halofit_template = {'N_ncdm':1,\n",
    "                   'omega_cdm':0,\n",
    "                   'tau_reio':0.06,\n",
    "                   'h':0.69,\n",
    "                   'A_s':2.2e-09,\n",
    "                   'n_s':0.966,\n",
    "                   'omega_dmeff':0.120,\n",
    "                   'm_dmeff':1.0,\n",
    "                   'npow_dmeff':0,\n",
    "                   'Vrel_dmeff':0,'output': 'mPk tCl pCl lCl',\n",
    "                   'l_max_scalars': 5000,\n",
    "                   'non linear':'halofit',\n",
    "                   'lensing': 'yes'}\n",
    "\n",
    "Planck_assumption = CMB_Primary(\n",
    "    theta_fwhm=[14,10,7.,5.,5.], sigma_T=[137,65.,43.,66.,200], sigma_P=[450,103.,81.,134.,406],\n",
    "    f_sky=0.6, l_min=2, l_max=2500)\n",
    "CMBS4_assumption = CMB_Primary(\n",
    "    theta_fwhm=[1.5], sigma_T=[1.0], sigma_P=[1.0],\n",
    "    f_sky=0.4, l_min=300, l_max=2500)\n"
   ]
  },
  {
   "cell_type": "code",
   "execution_count": 13,
   "id": "82953021",
   "metadata": {},
   "outputs": [],
   "source": [
    "# add in fiducial values & generate fiducial cosmology for linear\n",
    "linear_template.update(dict(zip(linear_obs.parameters, linear_obs.fiducial)))\n",
    "linear_obs.compute_cosmo(key='fiducial', classy_dict=linear_template)\n",
    "\n",
    "for par, par_left, par_right in zip(linear_obs.parameters, linear_obs.left, linear_obs.right):\n",
    "    linear_left = linear_template.copy()\n",
    "    linear_left[par] = par_left\n",
    "    linear_right = linear_template.copy()\n",
    "    linear_right[par] = par_right\n",
    "    # pass the dictionaries full of configurations to get computed\n",
    "    linear_obs.compute_cosmo(key=par + '_left', classy_dict=linear_left)\n",
    "    linear_obs.compute_cosmo(key=par + '_right', classy_dict=linear_right)\n",
    "\n",
    "linear_fisher = Planck_assumption.get_fisher(linear_obs)\n",
    "linear_cov = np.linalg.inv(linear_fisher)"
   ]
  },
  {
   "cell_type": "code",
   "execution_count": 14,
   "id": "e81544ae",
   "metadata": {},
   "outputs": [],
   "source": [
    "# add in fiducial values & generate fiducial cosmology for EFT\n",
    "EFT_template.update(dict(zip(EFT_obs.parameters, EFT_obs.fiducial)))\n",
    "EFT_obs.compute_cosmo(key='fiducial', classy_dict=EFT_template)\n",
    "\n",
    "for par, par_left, par_right in zip(EFT_obs.parameters, EFT_obs.left, EFT_obs.right):\n",
    "    EFT_left = EFT_template.copy()\n",
    "    EFT_left[par] = par_left\n",
    "    EFT_right = EFT_template.copy()\n",
    "    EFT_right[par] = par_right\n",
    "    # pass the dictionaries full of configurations to get computed\n",
    "    EFT_obs.compute_cosmo(key=par + '_left', classy_dict=EFT_left)\n",
    "    EFT_obs.compute_cosmo(key=par + '_right', classy_dict=EFT_right)\n",
    "\n",
    "EFT_fisher = Planck_assumption.get_fisher(EFT_obs)\n",
    "EFT_cov = np.linalg.inv(EFT_fisher)"
   ]
  },
  {
   "cell_type": "code",
   "execution_count": 15,
   "id": "c04e536c",
   "metadata": {},
   "outputs": [],
   "source": [
    "# add in fiducial values & generate fiducial cosmology for halofit\n",
    "halofit_template.update(dict(zip(halofit_obs.parameters, halofit_obs.fiducial)))\n",
    "halofit_obs.compute_cosmo(key='fiducial', classy_dict=halofit_template)\n",
    "\n",
    "for par, par_left, par_right in zip(halofit_obs.parameters, halofit_obs.left, halofit_obs.right):\n",
    "    halofit_left = halofit_template.copy()\n",
    "    halofit_left[par] = par_left\n",
    "    halofit_right = halofit_template.copy()\n",
    "    halofit_right[par] = par_right\n",
    "    # pass the dictionaries full of configurations to get computed\n",
    "    halofit_obs.compute_cosmo(key=par + '_left', classy_dict=halofit_left)\n",
    "    halofit_obs.compute_cosmo(key=par + '_right', classy_dict=halofit_right)\n",
    "\n",
    "halofit_fisher = Planck_assumption.get_fisher(halofit_obs)\n",
    "halofit_cov = np.linalg.inv(halofit_fisher)"
   ]
  },
  {
   "cell_type": "code",
   "execution_count": 16,
   "id": "47cddbf9",
   "metadata": {
    "scrolled": true
   },
   "outputs": [
    {
     "name": "stdout",
     "output_type": "stream",
     "text": [
      "generating new axis\n",
      "['$\\\\mathrm{m\\\\_ncdm}$', '$\\\\mathrm{N\\\\_ur}$', '$\\\\mathrm{sigma\\\\_dmeff}$']\n",
      "['$\\\\omega_b$', '$\\\\omega_{cdm}$', '$h$', '$n_s$', '$A_s$', '$\\\\tau_{reio}$']\n",
      "['$\\\\omega_b$', '$\\\\omega_{cdm}$', '$h$', '$n_s$', '$A_s$', '$\\\\tau_{reio}$']\n"
     ]
    },
    {
     "data": {
      "image/png": "[encoded data removed]",
      "text/plain": [
       "<Figure size 576x576 with 9 Axes>"
      ]
     },
     "metadata": {
      "needs_background": "light"
     },
     "output_type": "display_data"
    }
   ],
   "source": [
    "# plotting!\n",
    "labels = [r'$\\omega_b$', r'$\\omega_{cdm}$', r'$h$',  r'$n_s$', r'$A_s$', r'$\\tau_{reio}$']\n",
    "fig, axes = fishchips.util.plot_triangle_base(dm_pars, dm_centers, linear_cov, dm_labels)\n",
    "                                              \n",
    "fishchips.util.plot_triangle_base(dm_pars, dm_centers, halofit_cov, \n",
    "                                  f=fig, ax=axes, labels=labels,\n",
    "                                  ellipse_kwargs1={'ls': '--', 'edgecolor': 'red'},\n",
    "                                  ellipse_kwargs2={'ls': '-', 'edgecolor': 'red'},\n",
    "                                  color_1d='red'\n",
    "                                 );\n",
    "\n",
    "fishchips.util.plot_triangle_base(dm_pars, dm_centers, EFT_cov, \n",
    "                                  f=fig, ax=axes, labels=labels,\n",
    "                                  ellipse_kwargs1={'ls': '--', 'edgecolor': 'blue'},\n",
    "                                  ellipse_kwargs2={'ls': '-', 'edgecolor': 'blue'},\n",
    "                                  color_1d='blue'\n",
    "                                 );\n",
    "\n",
    "l1, = axes[0, -1].plot([],[],'-',color=\"black\", label='Linear')\n",
    "l2, = axes[0, -1].plot([],[],'-',color=\"red\", label='Halofit')\n",
    "l3, = axes[0, -1].plot([],[],'-',color=\"blue\", label='EFT')\n",
    "axes[0, -1].legend()\n",
    "plot = axes[0, -1].get_figure()\n",
    "plot.savefig('fisher dark section params.png')"
   ]
  },
  {
   "cell_type": "markdown",
   "id": "84bec180",
   "metadata": {},
   "source": [
    "Dark Section"
   ]
  },
  {
   "cell_type": "code",
   "execution_count": 19,
   "id": "8d26c5d2",
   "metadata": {},
   "outputs": [
    {
     "data": {
      "text/plain": [
       "{'Planck': [<fishchips.experiments.CMB_Primary at 0x7fede06dbba8>,\n",
       "  <fishchips.experiments.CMB_Primary at 0x7fede0700160>,\n",
       "  <fishchips.experiments.CMB_Primary at 0x7fede0700a58>],\n",
       " 'S3': [<fishchips.experiments.CMB_Primary at 0x7fede06db358>,\n",
       "  <fishchips.experiments.Prior at 0x7fede0700f98>,\n",
       "  <fishchips.experiments.CMB_Primary at 0x7fede0700b38>,\n",
       "  <fishchips.experiments.CMB_Primary at 0x7fede0630fd0>,\n",
       "  <fishchips.experiments.CMB_Primary at 0x7fede06f3a90>,\n",
       "  <fishchips.cmb_lensing.CMB_Lensing_Only at 0x7fede06f3f60>],\n",
       " 'S4': [<fishchips.experiments.CMB_Primary at 0x7fede06d0f60>,\n",
       "  <fishchips.experiments.CMB_Primary at 0x7fede0807da0>,\n",
       "  <fishchips.experiments.CMB_Primary at 0x7fede08076d8>,\n",
       "  <fishchips.experiments.Prior at 0x7fede0672668>,\n",
       "  <fishchips.experiments.CMB_Primary at 0x7fede0672358>,\n",
       "  <fishchips.experiments.CMB_Primary at 0x7fedfc376940>,\n",
       "  <fishchips.experiments.CMB_Primary at 0x7fedfc3769e8>,\n",
       "  <fishchips.cmb_lensing.CMB_Lensing_Only at 0x7fedfc3769b0>]}"
      ]
     },
     "execution_count": 19,
     "metadata": {},
     "output_type": "execute_result"
    }
   ],
   "source": [
    "import pickle\n",
    "premades = pickle.load( (open(\"../data/premades.p\", \"rb\")) )\n",
    "\n",
    "premades"
   ]
  },
  {
   "cell_type": "code",
   "execution_count": 18,
   "id": "fc930561",
   "metadata": {},
   "outputs": [
    {
     "name": "stdout",
     "output_type": "stream",
     "text": [
      "\n"
     ]
    },
    {
     "ename": "LinAlgError",
     "evalue": "0-dimensional array given. Array must be at least two-dimensional",
     "output_type": "error",
     "traceback": [
      "\u001b[0;31m---------------------------------------------------------------------------\u001b[0m",
      "\u001b[0;31mLinAlgError\u001b[0m                               Traceback (most recent call last)",
      "\u001b[0;32m<ipython-input-18-242742801632>\u001b[0m in \u001b[0;36m<module>\u001b[0;34m\u001b[0m\n\u001b[1;32m      4\u001b[0m linear_cmbs4_fisher = np.sum([exp.get_fisher(linear_obs, lensed_Cl=True)\n\u001b[1;32m      5\u001b[0m                   for exp in premades[\"S4\"]], axis=0)[0][0]\n\u001b[0;32m----> 6\u001b[0;31m \u001b[0mlinear_cmbs4_cov\u001b[0m \u001b[0;34m=\u001b[0m \u001b[0mnp\u001b[0m\u001b[0;34m.\u001b[0m\u001b[0mlinalg\u001b[0m\u001b[0;34m.\u001b[0m\u001b[0minv\u001b[0m\u001b[0;34m(\u001b[0m\u001b[0mlinear_cmbs4_fisher\u001b[0m\u001b[0;34m)\u001b[0m\u001b[0;34m\u001b[0m\u001b[0;34m\u001b[0m\u001b[0m\n\u001b[0m\u001b[1;32m      7\u001b[0m \u001b[0;34m\u001b[0m\u001b[0m\n\u001b[1;32m      8\u001b[0m halofit_cmbs4_fisher = np.sum([exp.get_fisher(halofit_obs, lensed_Cl=True)\n",
      "\u001b[0;32m<__array_function__ internals>\u001b[0m in \u001b[0;36minv\u001b[0;34m(*args, **kwargs)\u001b[0m\n",
      "\u001b[0;32m~/.local/lib/python3.6/site-packages/numpy/linalg/linalg.py\u001b[0m in \u001b[0;36minv\u001b[0;34m(a)\u001b[0m\n\u001b[1;32m    538\u001b[0m     \"\"\"\n\u001b[1;32m    539\u001b[0m     \u001b[0ma\u001b[0m\u001b[0;34m,\u001b[0m \u001b[0mwrap\u001b[0m \u001b[0;34m=\u001b[0m \u001b[0m_makearray\u001b[0m\u001b[0;34m(\u001b[0m\u001b[0ma\u001b[0m\u001b[0;34m)\u001b[0m\u001b[0;34m\u001b[0m\u001b[0;34m\u001b[0m\u001b[0m\n\u001b[0;32m--> 540\u001b[0;31m     \u001b[0m_assert_stacked_2d\u001b[0m\u001b[0;34m(\u001b[0m\u001b[0ma\u001b[0m\u001b[0;34m)\u001b[0m\u001b[0;34m\u001b[0m\u001b[0;34m\u001b[0m\u001b[0m\n\u001b[0m\u001b[1;32m    541\u001b[0m     \u001b[0m_assert_stacked_square\u001b[0m\u001b[0;34m(\u001b[0m\u001b[0ma\u001b[0m\u001b[0;34m)\u001b[0m\u001b[0;34m\u001b[0m\u001b[0;34m\u001b[0m\u001b[0m\n\u001b[1;32m    542\u001b[0m     \u001b[0mt\u001b[0m\u001b[0;34m,\u001b[0m \u001b[0mresult_t\u001b[0m \u001b[0;34m=\u001b[0m \u001b[0m_commonType\u001b[0m\u001b[0;34m(\u001b[0m\u001b[0ma\u001b[0m\u001b[0;34m)\u001b[0m\u001b[0;34m\u001b[0m\u001b[0;34m\u001b[0m\u001b[0m\n",
      "\u001b[0;32m~/.local/lib/python3.6/site-packages/numpy/linalg/linalg.py\u001b[0m in \u001b[0;36m_assert_stacked_2d\u001b[0;34m(*arrays)\u001b[0m\n\u001b[1;32m    196\u001b[0m         \u001b[0;32mif\u001b[0m \u001b[0ma\u001b[0m\u001b[0;34m.\u001b[0m\u001b[0mndim\u001b[0m \u001b[0;34m<\u001b[0m \u001b[0;36m2\u001b[0m\u001b[0;34m:\u001b[0m\u001b[0;34m\u001b[0m\u001b[0;34m\u001b[0m\u001b[0m\n\u001b[1;32m    197\u001b[0m             raise LinAlgError('%d-dimensional array given. Array must be '\n\u001b[0;32m--> 198\u001b[0;31m                     'at least two-dimensional' % a.ndim)\n\u001b[0m\u001b[1;32m    199\u001b[0m \u001b[0;34m\u001b[0m\u001b[0m\n\u001b[1;32m    200\u001b[0m \u001b[0;32mdef\u001b[0m \u001b[0m_assert_stacked_square\u001b[0m\u001b[0;34m(\u001b[0m\u001b[0;34m*\u001b[0m\u001b[0marrays\u001b[0m\u001b[0;34m)\u001b[0m\u001b[0;34m:\u001b[0m\u001b[0;34m\u001b[0m\u001b[0;34m\u001b[0m\u001b[0m\n",
      "\u001b[0;31mLinAlgError\u001b[0m: 0-dimensional array given. Array must be at least two-dimensional"
     ]
    }
   ],
   "source": [
    "import pickle\n",
    "premades = pickle.load( (open(\"../data/premades.p\", \"rb\")) )\n",
    "\n",
    "linear_cmbs4_fisher = np.sum([exp.get_fisher(linear_obs, lensed_Cl=True)\n",
    "                  for exp in premades[\"S4\"]], axis=0)[0][0]\n",
    "linear_cmbs4_cov = np.linalg.inv(linear_cmbs4_fisher)\n",
    "\n",
    "halofit_cmbs4_fisher = np.sum([exp.get_fisher(halofit_obs, lensed_Cl=True)\n",
    "                  for exp in premades[\"S4\"]], axis=0)[0][0]\n",
    "halofit_cmbs4_cov = np.linalg.inv(halofit_cmbs4_fisher)\n",
    "\n",
    "EFT_cmbs4_fisher = np.sum([exp.get_fisher(EFT_obs, lensed_Cl=True)\n",
    "                  for exp in premades[\"S4\"]], axis=0)[0][0]\n",
    "EFT_cmbs4_cov = np.linalg.inv(EFT_cmbs4_fisher)"
   ]
  },
  {
   "cell_type": "code",
   "execution_count": null,
   "id": "cce607b5",
   "metadata": {},
   "outputs": [],
   "source": [
    "# now plot\n",
    "dm_labels = [r'$\\sum m_\\mathrm{\\nu}$', r'$N_{eff}$',r'$\\sigma_\\mathrm{p}$']\n",
    "fig_2, axes_2 = fishchips.util.plot_triangle_base(dm_pars, dm_centers, CMBS4_cov_lensed, labels=dm_labels);\n",
    "fishchips.util.plot_triangle_base(dm_pars, dm_centers, CMBS4_cov_unlensed, \n",
    "                                  f=fig_2, ax=axes_2, labels=dm_labels,\n",
    "                                  ellipse_kwargs1={'ls': '--', 'edgecolor': 'blue'},\n",
    "                                  ellipse_kwargs2={'ls': '-', 'edgecolor': 'blue'},\n",
    "                                  color_1d='blue'\n",
    "                                 );\n",
    "l1, = axes_2[0, -1].plot([],[],'-',color=\"black\", label='Lensed TT/TE/EE')\n",
    "l2, = axes_2[0, -1].plot([],[],'-',color=\"blue\", label='unlensed TT/TE/EE')\n",
    "axes_2[0, -1].legend()\n",
    "# fig_2.savefig('dm comparison.pdf',format='pdf')"
   ]
  }
 ],
 "metadata": {
  "kernelspec": {
   "display_name": "Python 3",
   "language": "python",
   "name": "python3"
  },
  "language_info": {
   "codemirror_mode": {
    "name": "ipython",
    "version": 3
   },
   "file_extension": ".py",
   "mimetype": "text/x-python",
   "name": "python",
   "nbconvert_exporter": "python",
   "pygments_lexer": "ipython3",
   "version": "3.6.13"
  }
 },
 "nbformat": 4,
 "nbformat_minor": 5
}
