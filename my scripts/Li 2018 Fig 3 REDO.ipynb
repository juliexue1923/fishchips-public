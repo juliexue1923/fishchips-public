{
 "cells": [
  {
   "cell_type": "code",
   "execution_count": 1,
   "id": "0ad7aa7c",
   "metadata": {},
   "outputs": [],
   "source": [
    "%matplotlib inline \n",
    "%reload_ext autoreload\n",
    "%autoreload 2\n",
    "# %config InlineBackend.figure_format = 'retina' # I use a HiDPI screen\n",
    "from fishchips.experiments import CMB_Primary\n",
    "from fishchips.cosmo import Observables\n",
    "import fishchips.util\n",
    "\n",
    "from classy import Class  # CLASS python wrapper\n",
    "import numpy as np\n",
    "import matplotlib\n",
    "import matplotlib.pyplot as plt\n",
    "import pickle"
   ]
  },
  {
   "cell_type": "code",
   "execution_count": 4,
   "id": "3c4ad06c",
   "metadata": {},
   "outputs": [
    {
     "name": "stderr",
     "output_type": "stream",
     "text": [
      "/Users/juliexue/anaconda/lib/python3.6/site-packages/ipykernel_launcher.py:13: RuntimeWarning: invalid value encountered in multiply\n",
      "  del sys.path[0]\n"
     ]
    }
   ],
   "source": [
    "premades = pickle.load((open(\"../data/premades.p\", \"rb\")) )\n",
    "import copy\n",
    "\n",
    "# copy the S3 lensing\n",
    "planck_lensing = copy.deepcopy(premades['S3'][-1])\n",
    "\n",
    "# the things that matter are k_min, k_max, f_sky, and noise_k\n",
    "planck_lensing.k_min = 80\n",
    "planck_lensing.k_max = 2500\n",
    "planck_lensing.f_sky = 0.65\n",
    "txtnoise_k = np.genfromtxt('/Users/juliexue/Desktop/fishchips/notebooks/planck_noise_k.txt')[:,3]\n",
    "l_ranges = np.arange(len(txtnoise_k))\n",
    "planck_lensing.noise_k = txtnoise_k*(l_ranges+1)*(l_ranges)/4"
   ]
  },
  {
   "cell_type": "code",
   "execution_count": null,
   "id": "a575f814",
   "metadata": {},
   "outputs": [],
   "source": []
  }
 ],
 "metadata": {
  "kernelspec": {
   "display_name": "Python 3",
   "language": "python",
   "name": "python3"
  },
  "language_info": {
   "codemirror_mode": {
    "name": "ipython",
    "version": 3
   },
   "file_extension": ".py",
   "mimetype": "text/x-python",
   "name": "python",
   "nbconvert_exporter": "python",
   "pygments_lexer": "ipython3",
   "version": "3.6.13"
  }
 },
 "nbformat": 4,
 "nbformat_minor": 5
}
